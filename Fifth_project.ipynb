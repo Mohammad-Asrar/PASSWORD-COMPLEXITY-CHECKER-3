{
 "cells": [
  {
   "cell_type": "code",
   "execution_count": 4,
   "id": "e072d293-9373-4861-9b4c-424c904757a4",
   "metadata": {},
   "outputs": [
    {
     "name": "stdin",
     "output_type": "stream",
     "text": [
      "Enter your password:  Asrar@1234\n"
     ]
    },
    {
     "name": "stdout",
     "output_type": "stream",
     "text": [
      "Password meets complexity requirements.\n"
     ]
    }
   ],
   "source": [
    "def check_password_complexity(password):\n",
    "    if len(password) < 8:\n",
    "        return False, \"Password must be at least 8 characters long.\"\n",
    "\n",
    "    has_lowercase = any(c.islower() for c in password)\n",
    "    has_uppercase = any(c.isupper() for c in password)\n",
    "    has_digit = any(c.isdigit() for c in password)\n",
    "    has_special = any(not c.isalnum() for c in password)\n",
    "\n",
    "    if not has_lowercase:\n",
    "        return False, \"Password must contain at least one lowercase letter.\"\n",
    "    if not has_uppercase:\n",
    "        return False, \"Password must contain at least one uppercase letter.\"\n",
    "    if not has_digit:\n",
    "        return False, \"Password must contain at least one digit.\"\n",
    "    if not has_special:\n",
    "        return False, \"Password must contain at least one special character.\"\n",
    "\n",
    "    return True, \"Password meets complexity requirements.\"\n",
    "\n",
    "\n",
    "# Example usage:\n",
    "password = input(\"Enter your password: \")\n",
    "valid, message = check_password_complexity(password)\n",
    "print(message)"
   ]
  },
  {
   "cell_type": "code",
   "execution_count": null,
   "id": "28baf2d4-1d06-490f-8bcb-b5381c06a515",
   "metadata": {},
   "outputs": [],
   "source": []
  }
 ],
 "metadata": {
  "kernelspec": {
   "display_name": "Python 3 (ipykernel)",
   "language": "python",
   "name": "python3"
  },
  "language_info": {
   "codemirror_mode": {
    "name": "ipython",
    "version": 3
   },
   "file_extension": ".py",
   "mimetype": "text/x-python",
   "name": "python",
   "nbconvert_exporter": "python",
   "pygments_lexer": "ipython3",
   "version": "3.12.3"
  }
 },
 "nbformat": 4,
 "nbformat_minor": 5
}
